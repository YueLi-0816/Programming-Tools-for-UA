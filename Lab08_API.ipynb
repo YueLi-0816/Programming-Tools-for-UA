{
 "cells": [
  {
   "cell_type": "markdown",
   "id": "a0d41bc8",
   "metadata": {},
   "source": [
    "# Lab 8: API, Online Data Extraction/Scraping by Python\n",
    "## Author: Yue Li, PhD student in UBDC"
   ]
  },
  {
   "cell_type": "code",
   "execution_count": 1,
   "id": "618fdff1",
   "metadata": {},
   "outputs": [],
   "source": [
    "import requests\n",
    "import json\n",
    "import pandas as pd\n",
    "import geopandas as gpd\n",
    "import matplotlib.pyplot as plt\n",
    "import contextily as ctx"
   ]
  },
  {
   "cell_type": "markdown",
   "id": "c312da34",
   "metadata": {},
   "source": [
    "## Glasgow traffic API\n",
    "\n",
    "### Get the traffic sensor locations: `https://api.glasgow.gov.uk/traffic/v1/movement/sites`"
   ]
  },
  {
   "cell_type": "code",
   "execution_count": 2,
   "id": "22341940",
   "metadata": {},
   "outputs": [],
   "source": [
    "# Convert the rerutned data from dict to dataframe"
   ]
  },
  {
   "cell_type": "markdown",
   "id": "b1108580",
   "metadata": {},
   "source": [
    "### Then map the sensors"
   ]
  },
  {
   "cell_type": "code",
   "execution_count": 3,
   "id": "67925a2b",
   "metadata": {},
   "outputs": [],
   "source": [
    "# Create a geodataframe\n",
    "# Set coordinate reference system\n",
    "# Reprojecting\n",
    "\n",
    "# Fliter the sensors via locations\n",
    "# Create static and interactive map "
   ]
  },
  {
   "cell_type": "code",
   "execution_count": null,
   "id": "bcc096fb",
   "metadata": {},
   "outputs": [],
   "source": []
  }
 ],
 "metadata": {
  "kernelspec": {
   "display_name": "Python 3 (ipykernel)",
   "language": "python",
   "name": "python3"
  },
  "language_info": {
   "codemirror_mode": {
    "name": "ipython",
    "version": 3
   },
   "file_extension": ".py",
   "mimetype": "text/x-python",
   "name": "python",
   "nbconvert_exporter": "python",
   "pygments_lexer": "ipython3",
   "version": "3.11.5"
  }
 },
 "nbformat": 4,
 "nbformat_minor": 5
}
